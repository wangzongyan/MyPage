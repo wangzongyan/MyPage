{
 "cells": [
  {
   "cell_type": "code",
   "execution_count": 18,
   "metadata": {},
   "outputs": [],
   "source": [
    "import pandas as pd\n",
    "import geocoder\n",
    "from math import radians, cos, sin, asin, sqrt\n",
    "bing_key = \"\""
   ]
  },
  {
   "cell_type": "code",
   "execution_count": 9,
   "metadata": {},
   "outputs": [
    {
     "data": {
      "text/html": [
       "<div>\n",
       "<style scoped>\n",
       "    .dataframe tbody tr th:only-of-type {\n",
       "        vertical-align: middle;\n",
       "    }\n",
       "\n",
       "    .dataframe tbody tr th {\n",
       "        vertical-align: top;\n",
       "    }\n",
       "\n",
       "    .dataframe thead th {\n",
       "        text-align: right;\n",
       "    }\n",
       "</style>\n",
       "<table border=\"1\" class=\"dataframe\">\n",
       "  <thead>\n",
       "    <tr style=\"text-align: right;\">\n",
       "      <th></th>\n",
       "      <th>A_address</th>\n",
       "      <th>A_city</th>\n",
       "      <th>A_state</th>\n",
       "      <th>B_address</th>\n",
       "      <th>B_city</th>\n",
       "      <th>B_state</th>\n",
       "    </tr>\n",
       "  </thead>\n",
       "  <tbody>\n",
       "    <tr>\n",
       "      <th>0</th>\n",
       "      <td>Times Square</td>\n",
       "      <td>Manhattan</td>\n",
       "      <td>NY</td>\n",
       "      <td>Walt Disney World Resort</td>\n",
       "      <td>Orlando</td>\n",
       "      <td>FL</td>\n",
       "    </tr>\n",
       "  </tbody>\n",
       "</table>\n",
       "</div>"
      ],
      "text/plain": [
       "      A_address     A_city A_state                 B_address   B_city B_state\n",
       "0  Times Square  Manhattan      NY  Walt Disney World Resort  Orlando      FL"
      ]
     },
     "execution_count": 9,
     "metadata": {},
     "output_type": "execute_result"
    }
   ],
   "source": [
    "df = pd.DataFrame({'A_address': ['Times Square',], \n",
    "              'A_city': ['Manhattan', ], \n",
    "              'A_state': ['NY', ], \n",
    "              'B_address': ['Walt Disney World Resort', ], \n",
    "              'B_city': ['Orlando',], \n",
    "              'B_state':['FL']}, index = range(1))\n",
    "df"
   ]
  },
  {
   "cell_type": "code",
   "execution_count": 35,
   "metadata": {},
   "outputs": [
    {
     "data": {
      "text/plain": [
       "'<table border=\"1\" class=\"table table-striped\"\">  <thead>    <tr style=\"text-align: right;\">      <th scope=\"row\"></th>      <th scope=\"row\">A_address</th>      <th scope=\"row\">A_city</th>      <th scope=\"row\">A_state</th>      <th scope=\"row\">B_address</th>      <th scope=\"row\">B_city</th>      <th scope=\"row\">B_state</th>      <th scope=\"row\">A_full_address</th>      <th scope=\"row\">B_full_address</th>      <th scope=\"row\">A_lng</th>      <th scope=\"row\">A_lat</th>      <th scope=\"row\">B_lng</th>      <th scope=\"row\">B_lat</th>      <th scope=\"row\">distance_in_miles</th>    </tr>  </thead>  <tbody>    <tr>      <th scope=\"row\">0</th>      <td>Times Square</td>      <td>Manhattan</td>      <td>NY</td>      <td>Walt Disney World Resort</td>      <td>Orlando</td>      <td>FL</td>      <td>Times Square, Manhattan NY</td>      <td>Walt Disney World Resort, Orlando FL</td>      <td>-73.966248</td>      <td>40.783436</td>      <td>-81.582626</td>      <td>28.403811</td>      <td>957.218796</td>    </tr>  </tbody></table>'"
      ]
     },
     "execution_count": 35,
     "metadata": {},
     "output_type": "execute_result"
    }
   ],
   "source": [
    "df.to_html().replace(\"<th>\", '<th scope=\"row\">').replace(\n",
    "    '\"dataframe', '\"table-responsive table-bordered table-hover table-striped\"').replace(\"\\n\", \"\")"
   ]
  },
  {
   "cell_type": "code",
   "execution_count": 10,
   "metadata": {},
   "outputs": [],
   "source": [
    "# get full address\n",
    "df['A_full_address'] = [\"%s, %s %s\"%(addr, city, state) for addr, city, state in zip(df.A_address, \n",
    "                                                             df.A_city, \n",
    "                                                             df.A_state)]\n",
    "df['B_full_address'] = [\"%s, %s %s\"%(addr, city, state) for addr, city, state in zip(df.B_address, \n",
    "                                                             df.B_city, \n",
    "                                                             df.B_state)]"
   ]
  },
  {
   "cell_type": "code",
   "execution_count": 11,
   "metadata": {},
   "outputs": [],
   "source": [
    "for i in df.index:\n",
    "    g = geocoder.bing(df.loc[i, 'A_full_address'], key = bing_key)\n",
    "    df.loc[i, 'A_lng'] = g.lng\n",
    "    df.loc[i, 'A_lat'] = g.lat  "
   ]
  },
  {
   "cell_type": "code",
   "execution_count": 39,
   "metadata": {},
   "outputs": [],
   "source": [
    " df_a = df.loc[:, [x for x in df.columns if x[0] == 'A']]\n",
    "## de-duplicate\n",
    " df_a = df_a.groupby('A_full_address').first().reset_index(drop=False)"
   ]
  },
  {
   "cell_type": "code",
   "execution_count": 40,
   "metadata": {},
   "outputs": [
    {
     "data": {
      "text/html": [
       "<div>\n",
       "<style scoped>\n",
       "    .dataframe tbody tr th:only-of-type {\n",
       "        vertical-align: middle;\n",
       "    }\n",
       "\n",
       "    .dataframe tbody tr th {\n",
       "        vertical-align: top;\n",
       "    }\n",
       "\n",
       "    .dataframe thead th {\n",
       "        text-align: right;\n",
       "    }\n",
       "</style>\n",
       "<table border=\"1\" class=\"dataframe\">\n",
       "  <thead>\n",
       "    <tr style=\"text-align: right;\">\n",
       "      <th></th>\n",
       "      <th>A_full_address</th>\n",
       "      <th>A_address</th>\n",
       "      <th>A_city</th>\n",
       "      <th>A_state</th>\n",
       "      <th>A_lng</th>\n",
       "      <th>A_lat</th>\n",
       "    </tr>\n",
       "  </thead>\n",
       "  <tbody>\n",
       "    <tr>\n",
       "      <th>0</th>\n",
       "      <td>Times Square, Manhattan NY</td>\n",
       "      <td>Times Square</td>\n",
       "      <td>Manhattan</td>\n",
       "      <td>NY</td>\n",
       "      <td>-73.966248</td>\n",
       "      <td>40.783436</td>\n",
       "    </tr>\n",
       "  </tbody>\n",
       "</table>\n",
       "</div>"
      ],
      "text/plain": [
       "               A_full_address     A_address     A_city A_state      A_lng  \\\n",
       "0  Times Square, Manhattan NY  Times Square  Manhattan      NY -73.966248   \n",
       "\n",
       "       A_lat  \n",
       "0  40.783436  "
      ]
     },
     "execution_count": 40,
     "metadata": {},
     "output_type": "execute_result"
    }
   ],
   "source": [
    "df_a"
   ]
  },
  {
   "cell_type": "code",
   "execution_count": 14,
   "metadata": {},
   "outputs": [],
   "source": [
    "def get_loc(obj): \n",
    "    g = geocoder.bing(obj, key = bing_key)\n",
    "    return g.lng, g.lat\n",
    "df[['B_lng', 'B_lat']] = df.apply(lambda obj: pd.Series(\n",
    "    dict(zip(['B_lng', 'B_lat'],\n",
    "        get_loc(obj['B_full_address'])))), axis = 1)"
   ]
  },
  {
   "cell_type": "code",
   "execution_count": 21,
   "metadata": {},
   "outputs": [
    {
     "data": {
      "text/plain": [
       "'<table border=\"1\" class=\"dataframe\">\\n  <thead>\\n    <tr style=\"text-align: right;\">\\n      <th></th>\\n      <th>A_address</th>\\n      <th>A_city</th>\\n      <th>A_state</th>\\n      <th>B_address</th>\\n      <th>B_city</th>\\n      <th>B_state</th>\\n      <th>A_full_address</th>\\n      <th>B_full_address</th>\\n      <th>A_lng</th>\\n      <th>A_lat</th>\\n      <th>B_lng</th>\\n      <th>B_lat</th>\\n      <th>distance_in_miles</th>\\n    </tr>\\n  </thead>\\n  <tbody>\\n    <tr>\\n      <th>0</th>\\n      <td>Times Square</td>\\n      <td>Manhattan</td>\\n      <td>NY</td>\\n      <td>Walt Disney World Resort</td>\\n      <td>Orlando</td>\\n      <td>FL</td>\\n      <td>Times Square, Manhattan NY</td>\\n      <td>Walt Disney World Resort, Orlando FL</td>\\n      <td>-73.966248</td>\\n      <td>40.783436</td>\\n      <td>-81.582626</td>\\n      <td>28.403811</td>\\n      <td>957.218796</td>\\n    </tr>\\n  </tbody>\\n</table>'"
      ]
     },
     "execution_count": 21,
     "metadata": {},
     "output_type": "execute_result"
    }
   ],
   "source": [
    "df.to_html()"
   ]
  },
  {
   "cell_type": "code",
   "execution_count": 16,
   "metadata": {},
   "outputs": [],
   "source": [
    "def haversine(lon1, lat1, lon2, lat2):\n",
    "    \"\"\"\n",
    "    Calculate the great circle distance between two points \n",
    "    on the earth (specified in decimal degrees)\n",
    "    \"\"\"\n",
    "    # convert decimal degrees to radians \n",
    "    lon1, lat1, lon2, lat2 = map(radians, [lon1, lat1, lon2, lat2])\n",
    "    # haversine formula \n",
    "    dlon = lon2 - lon1 \n",
    "    dlat = lat2 - lat1 \n",
    "    a = sin(dlat/2)**2 + cos(lat1) * cos(lat2) * sin(dlon/2)**2\n",
    "    c = 2 * asin(sqrt(a)) \n",
    "    km = 6367 * c\n",
    "    mile = km * 0.621371\n",
    "    return mile"
   ]
  },
  {
   "cell_type": "code",
   "execution_count": 19,
   "metadata": {},
   "outputs": [],
   "source": [
    "df['distance_in_miles'] = df.apply(lambda obj: haversine(*obj[['A_lng', 'A_lat', 'B_lng', 'B_lat']]), axis = 1)"
   ]
  },
  {
   "cell_type": "code",
   "execution_count": 20,
   "metadata": {},
   "outputs": [
    {
     "data": {
      "text/html": [
       "<div>\n",
       "<style scoped>\n",
       "    .dataframe tbody tr th:only-of-type {\n",
       "        vertical-align: middle;\n",
       "    }\n",
       "\n",
       "    .dataframe tbody tr th {\n",
       "        vertical-align: top;\n",
       "    }\n",
       "\n",
       "    .dataframe thead th {\n",
       "        text-align: right;\n",
       "    }\n",
       "</style>\n",
       "<table border=\"1\" class=\"dataframe\">\n",
       "  <thead>\n",
       "    <tr style=\"text-align: right;\">\n",
       "      <th></th>\n",
       "      <th>A_address</th>\n",
       "      <th>A_city</th>\n",
       "      <th>A_state</th>\n",
       "      <th>B_address</th>\n",
       "      <th>B_city</th>\n",
       "      <th>B_state</th>\n",
       "      <th>A_full_address</th>\n",
       "      <th>B_full_address</th>\n",
       "      <th>A_lng</th>\n",
       "      <th>A_lat</th>\n",
       "      <th>B_lng</th>\n",
       "      <th>B_lat</th>\n",
       "      <th>distance_in_miles</th>\n",
       "    </tr>\n",
       "  </thead>\n",
       "  <tbody>\n",
       "    <tr>\n",
       "      <th>0</th>\n",
       "      <td>Times Square</td>\n",
       "      <td>Manhattan</td>\n",
       "      <td>NY</td>\n",
       "      <td>Walt Disney World Resort</td>\n",
       "      <td>Orlando</td>\n",
       "      <td>FL</td>\n",
       "      <td>Times Square, Manhattan NY</td>\n",
       "      <td>Walt Disney World Resort, Orlando FL</td>\n",
       "      <td>-73.966248</td>\n",
       "      <td>40.783436</td>\n",
       "      <td>-81.582626</td>\n",
       "      <td>28.403811</td>\n",
       "      <td>957.218796</td>\n",
       "    </tr>\n",
       "  </tbody>\n",
       "</table>\n",
       "</div>"
      ],
      "text/plain": [
       "      A_address     A_city A_state                 B_address   B_city B_state  \\\n",
       "0  Times Square  Manhattan      NY  Walt Disney World Resort  Orlando      FL   \n",
       "\n",
       "               A_full_address                        B_full_address  \\\n",
       "0  Times Square, Manhattan NY  Walt Disney World Resort, Orlando FL   \n",
       "\n",
       "       A_lng      A_lat      B_lng      B_lat  distance_in_miles  \n",
       "0 -73.966248  40.783436 -81.582626  28.403811         957.218796  "
      ]
     },
     "execution_count": 20,
     "metadata": {},
     "output_type": "execute_result"
    }
   ],
   "source": [
    "df"
   ]
  }
 ],
 "metadata": {
  "kernelspec": {
   "display_name": "Python 3",
   "language": "python",
   "name": "python3"
  },
  "language_info": {
   "codemirror_mode": {
    "name": "ipython",
    "version": 3
   },
   "file_extension": ".py",
   "mimetype": "text/x-python",
   "name": "python",
   "nbconvert_exporter": "python",
   "pygments_lexer": "ipython3",
   "version": "3.6.4"
  }
 },
 "nbformat": 4,
 "nbformat_minor": 2
}
